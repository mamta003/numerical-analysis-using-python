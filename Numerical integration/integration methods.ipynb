{
 "cells": [
  {
   "cell_type": "code",
   "execution_count": 1,
   "metadata": {},
   "outputs": [],
   "source": [
    "import numpy as np\n",
    "import sympy as smp\n",
    "from sympy import symbols, Eq, solve, simplify\n",
    "import math\n",
    "from datetime import datetime\n",
    "from sklearn.linear_model import LinearRegression\n",
    "import matplotlib.pyplot as plt\n",
    "import time"
   ]
  },
  {
   "cell_type": "markdown",
   "metadata": {},
   "source": [
    "## Trapizoidal"
   ]
  },
  {
   "cell_type": "code",
   "execution_count": 3,
   "metadata": {},
   "outputs": [
    {
     "name": "stdout",
     "output_type": "stream",
     "text": [
      "[ 0.    0.75  1.    0.75  0.   -1.25 -3.  ]\n",
      "-0.125\n"
     ]
    }
   ],
   "source": [
    "a = 0\n",
    "b = 3\n",
    "n = 6\n",
    "x0 = 0\n",
    "h = abs((b-a)/n)\n",
    "def f(x):\n",
    "    return (2*x-(x**2))\n",
    "y = np.empty(n+1)\n",
    "y[0]=f(a)\n",
    "y[n]=f(b)\n",
    "# for i in range(n+1):\n",
    "i=1\n",
    "sum = h*((f(x0)+f(x0+n*h))/2)\n",
    "while i<n:\n",
    "    y[i] = f(x0+i*h)\n",
    "    sum =  sum + h*f(x0+i*h)\n",
    "    i+=1\n",
    "print(y)\n",
    "print(sum)"
   ]
  },
  {
   "cell_type": "markdown",
   "metadata": {},
   "source": [
    "## simpson's 1/3"
   ]
  },
  {
   "cell_type": "code",
   "execution_count": 4,
   "metadata": {},
   "outputs": [
    {
     "name": "stdout",
     "output_type": "stream",
     "text": [
      "[ 0.    0.75  1.    0.75  0.   -1.25 -3.  ]\n",
      "\n",
      "the value of the given integral by Simpson's is \n",
      " 0.0\n"
     ]
    }
   ],
   "source": [
    "a = 0\n",
    "b = 3\n",
    "n = 6\n",
    "x0 = 0\n",
    "h = (b-a)/n\n",
    "\n",
    "def f(x):\n",
    "    return (2*x-(x**2))\n",
    "y = np.empty(n+1)\n",
    "y[0]=f(a)\n",
    "y[n]=f(b)\n",
    "i=1\n",
    "sum = ((f(x0)+f(x0+n*h)))\n",
    "p=0\n",
    "q=0\n",
    "while i<n:\n",
    "    y[i] = f(x0+i*h)\n",
    "    if i%2==0:\n",
    "        p+=2*(y[i])\n",
    "    else:\n",
    "        q+=4*(y[i])\n",
    "    i+=1\n",
    "print(y)\n",
    "sum =  (h/3)*(sum + p+q)\n",
    "print(f\"\\nthe value of the given integral by Simpson's is \\n {sum}\")"
   ]
  },
  {
   "cell_type": "markdown",
   "metadata": {},
   "source": [
    "## simpson's 3/8\n"
   ]
  },
  {
   "cell_type": "code",
   "execution_count": 5,
   "metadata": {},
   "outputs": [
    {
     "name": "stdout",
     "output_type": "stream",
     "text": [
      "[1.         0.85714286 0.75       0.66666667 0.6        0.54545455\n",
      " 0.5       ]\n",
      "\n",
      "the value of the given integral by Simpson's is \n",
      " 0.6931953463203464\n"
     ]
    }
   ],
   "source": [
    "a = 0\n",
    "b = 1\n",
    "n = 6\n",
    "x0 = 0\n",
    "h = (b-a)/n\n",
    "\n",
    "def f(x):\n",
    "    return 1/(1+x)\n",
    "y = np.empty(n+1)\n",
    "y[0]=f(a)\n",
    "y[n]=f(b)\n",
    "i=1\n",
    "sum = ((f(x0)+f(x0+n*h)))\n",
    "p=0\n",
    "q=0\n",
    "while i<n:\n",
    "    y[i] = f(x0+i*h)\n",
    "    if i%3==0:\n",
    "        p+=2*(y[i])\n",
    "    else:\n",
    "        q+=3*(y[i])\n",
    "    i+=1\n",
    "print(y)\n",
    "sum =  (3*h/8)*(sum + p+q)\n",
    "print(f\"\\nthe value of the given integral by Simpson's is \\n {sum}\")"
   ]
  },
  {
   "cell_type": "code",
   "execution_count": null,
   "metadata": {},
   "outputs": [],
   "source": []
  }
 ],
 "metadata": {
  "kernelspec": {
   "display_name": "base",
   "language": "python",
   "name": "python3"
  },
  "language_info": {
   "codemirror_mode": {
    "name": "ipython",
    "version": 3
   },
   "file_extension": ".py",
   "mimetype": "text/x-python",
   "name": "python",
   "nbconvert_exporter": "python",
   "pygments_lexer": "ipython3",
   "version": "3.12.4"
  }
 },
 "nbformat": 4,
 "nbformat_minor": 2
}
