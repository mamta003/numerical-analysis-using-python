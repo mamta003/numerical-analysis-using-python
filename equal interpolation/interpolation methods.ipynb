{
 "cells": [
  {
   "cell_type": "code",
   "execution_count": 1,
   "metadata": {},
   "outputs": [],
   "source": [
    "import numpy as np\n",
    "import sympy as smp\n",
    "from sympy import symbols, Eq, solve, simplify\n",
    "import math\n",
    "from datetime import datetime\n",
    "from sklearn.linear_model import LinearRegression\n",
    "import matplotlib.pyplot as plt\n",
    "import time"
   ]
  },
  {
   "cell_type": "markdown",
   "metadata": {},
   "source": [
    "## newton forward difference"
   ]
  },
  {
   "cell_type": "code",
   "execution_count": 2,
   "metadata": {},
   "outputs": [
    {
     "name": "stdout",
     "output_type": "stream",
     "text": [
      "Initializing the resultant matrix:\n",
      " [[1891.   46.    0.    0.    0.    0.]\n",
      " [1901.   66.    0.    0.    0.    0.]\n",
      " [1911.   81.    0.    0.    0.    0.]\n",
      " [1921.   93.    0.    0.    0.    0.]\n",
      " [1931.  101.    0.    0.    0.    0.]] \n",
      "\n",
      "The resultant matrix is:\n",
      " [[ 1.891e+03  4.600e+01  2.000e+01 -5.000e+00  2.000e+00 -3.000e+00]\n",
      " [ 1.901e+03  6.600e+01  1.500e+01 -3.000e+00 -1.000e+00  0.000e+00]\n",
      " [ 1.911e+03  8.100e+01  1.200e+01 -4.000e+00  0.000e+00  0.000e+00]\n",
      " [ 1.921e+03  9.300e+01  8.000e+00  0.000e+00  0.000e+00  0.000e+00]\n",
      " [ 1.931e+03  1.010e+02  0.000e+00  0.000e+00  0.000e+00  0.000e+00]] \n",
      "\n",
      "The polynomial is:\n",
      " -0.125*u*(u - 3)*(u - 2)*(u - 1) + 0.333333333333333*u*(u - 2)*(u - 1) - 2.5*u*(u - 1) + 20.0*u + 46.0 \n",
      "\n",
      "The simplified value of the polynomial is:\n",
      " -0.125*u**4 + 1.08333333333333*u**3 - 4.875*u**2 + 23.9166666666667*u + 46.0 \n",
      "\n",
      "The value of polynomial at 1895 is:\n",
      " 54.8528 \n",
      "\n"
     ]
    }
   ],
   "source": [
    "x=np.array([1891,1901,1911,1921,1931])\n",
    "y=np.array([46,66,81,93,101])\n",
    "# n= int(input('Enter the number of data points:\\n'))\n",
    "# p=float(input('Enter the evaluation point of data:\\n'))\n",
    "# x=np.empty(n)\n",
    "# x[0]=int(input(\"enter initial data point:\\n\"))\n",
    "n=len(x)\n",
    "h=10\n",
    "p=1895\n",
    "# u=(p-x0)/h \n",
    "u=symbols('u')\n",
    "rslt = np.zeros([n,n+1])\n",
    "for k in range(n):\n",
    "    rslt[k][0]=x[k]\n",
    "    rslt[k][1]=y[k]\n",
    "print('Initializing the resultant matrix:\\n',rslt,'\\n')\n",
    "a=n-1\n",
    "j=2\n",
    "while j<n+2:\n",
    "    i=0\n",
    "    while i<a:\n",
    "        rslt[i][j]=((rslt[i+1][j-1]-rslt[i][j-1]))\n",
    "        i+=1\n",
    "    a-=1\n",
    "    j+=1\n",
    "print('The resultant matrix is:\\n',rslt,'\\n')\n",
    "j=2\n",
    "sum=rslt[0][1]\n",
    "while j<n+1:\n",
    "    partition=rslt[0][j]\n",
    "    k=0\n",
    "    while k<j-1:\n",
    "        partition = partition* (u-(k))\n",
    "        k+=1\n",
    "    # print(partition)\n",
    "    sum+=partition/math.factorial(j-1)\n",
    "    j+=1\n",
    "print(f'The polynomial is:\\n',sum,'\\n')\n",
    "poly=smp.lambdify(u,sum)\n",
    "print(f\"The simplified value of the polynomial is:\\n\",simplify(sum),'\\n')\n",
    "u = (p-x[0])/h\n",
    "print(f'The value of polynomial at {p} is:\\n',poly(u),'\\n')\n"
   ]
  },
  {
   "cell_type": "markdown",
   "metadata": {},
   "source": [
    "## newton backward difference"
   ]
  },
  {
   "cell_type": "code",
   "execution_count": 3,
   "metadata": {},
   "outputs": [
    {
     "name": "stdout",
     "output_type": "stream",
     "text": [
      "Initializing the resultant matrix:\n",
      " [[ 0.  5.  0.  0.  0.  0.  0.]\n",
      " [ 1.  8.  0.  0.  0.  0.  0.]\n",
      " [ 2. 12.  0.  0.  0.  0.  0.]\n",
      " [ 3. 17.  0.  0.  0.  0.  0.]\n",
      " [ 4. 26.  0.  0.  0.  0.  0.]] \n",
      "\n",
      "The resultant matrix is:\n",
      " [[ 0.  5.  0.  0.  0.  0.  0.]\n",
      " [ 1.  8.  3.  0.  0.  0.  0.]\n",
      " [ 2. 12.  4.  1.  0.  0.  0.]\n",
      " [ 3. 17.  5.  1.  0.  0.  0.]\n",
      " [ 4. 26.  9.  4.  3.  3.  0.]] \n",
      "\n",
      "The polynomial is:\n",
      " 0.5*u*(u + 1)*(u + 2) + 2.0*u*(u + 1) + 9.0*u + 26.0 \n",
      "\n",
      "The simplified value of the polynomial is:\n",
      " 0.5*u**3 + 3.5*u**2 + 12.0*u + 26.0 \n",
      "\n",
      "The value of polynomial at 4 is:\n",
      " 162.0 \n",
      "\n"
     ]
    }
   ],
   "source": [
    "x=np.array([0,1,2,3,4])\n",
    "y=np.array([5,8,12,17,26])\n",
    "p=4\n",
    "n=len(x)\n",
    "# rslt = np.zeros([n,n+2])\n",
    "# for k in range(n):\n",
    "#     rslt[k][0]=rslt[k][0]+x[k]\n",
    "#     rslt[k][1]=rslt[k][1]+y[k]\n",
    "\n",
    "# n= int(input('Enter the number of data points:\\n'))\n",
    "# p=float(input('Enter the evaluation point of data:\\n'))\n",
    "# x[0]=int(input(\"enter initial data point:\\n\"))\n",
    "h=1\n",
    "u=(p-x[0])/h \n",
    "u=symbols('u')\n",
    "rslt = np.zeros([n,n+2])\n",
    "for k in range(n):\n",
    "    rslt[k][0]=x[k]\n",
    "    # rslt[k][1]=input('Enter the functional value at given point x:\\n')\n",
    "    rslt[k][1]=y[k]\n",
    "print('Initializing the resultant matrix:\\n',rslt,'\\n')\n",
    "\n",
    "j=2\n",
    "while j<n+2:\n",
    "    a=j-1\n",
    "    i=n-1\n",
    "    while i>a-1:\n",
    "        rslt[i][j]=((rslt[i][j-1]-rslt[i-1][j-1]))\n",
    "        i-=1\n",
    "    a-=1\n",
    "    j+=1\n",
    "print('The resultant matrix is:\\n',rslt,'\\n')\n",
    "j=2\n",
    "sum=rslt[n-1][1]\n",
    "while j<n:\n",
    "    partition=rslt[n-1][j]\n",
    "    k=0\n",
    "    while k<j-1:\n",
    "    # for k in range(j-1):\n",
    "        partition = partition* (u+(k))\n",
    "        k+=1\n",
    "    # print(partition)\n",
    "    sum+=partition/math.factorial(j-1)\n",
    "    j+=1\n",
    "print(f'The polynomial is:\\n',sum,'\\n')\n",
    "poly=smp.lambdify(u,sum)\n",
    "print(f\"The simplified value of the polynomial is:\\n\",simplify(sum),'\\n')\n",
    "u = (p-rslt[n-1][0])/h\n",
    "# print(u)\n",
    "print(f'The value of polynomial at {p} is:\\n',poly(p),'\\n')"
   ]
  },
  {
   "cell_type": "code",
   "execution_count": null,
   "metadata": {},
   "outputs": [],
   "source": []
  }
 ],
 "metadata": {
  "kernelspec": {
   "display_name": "base",
   "language": "python",
   "name": "python3"
  },
  "language_info": {
   "codemirror_mode": {
    "name": "ipython",
    "version": 3
   },
   "file_extension": ".py",
   "mimetype": "text/x-python",
   "name": "python",
   "nbconvert_exporter": "python",
   "pygments_lexer": "ipython3",
   "version": "3.12.4"
  }
 },
 "nbformat": 4,
 "nbformat_minor": 2
}
