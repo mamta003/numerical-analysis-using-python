{
 "cells": [
  {
   "cell_type": "code",
   "execution_count": 1,
   "metadata": {},
   "outputs": [],
   "source": [
    "import sympy as smp\n",
    "from sympy import symbols,diff\n",
    "import numpy as np\n",
    "import math\n",
    "from datetime import datetime"
   ]
  },
  {
   "cell_type": "markdown",
   "metadata": {},
   "source": [
    "## bisection method"
   ]
  },
  {
   "cell_type": "code",
   "execution_count": 2,
   "metadata": {},
   "outputs": [
    {
     "name": "stdout",
     "output_type": "stream",
     "text": [
      "-2 -3\n",
      "number of iterations: 10\n",
      "at iteration 10 approximate root is mid and error is 1\n",
      "iteration 0 -2.5\n",
      "at iteration 10 approximate root is mid and error is 0.5\n",
      "iteration 1 -2.25\n",
      "at iteration 10 approximate root is mid and error is 0.25\n",
      "iteration 2 -2.375\n",
      "at iteration 10 approximate root is mid and error is 0.125\n",
      "iteration 3 -2.3125\n",
      "at iteration 10 approximate root is mid and error is 0.0625\n",
      "iteration 4 -2.28125\n",
      "at iteration 10 approximate root is mid and error is 0.03125\n",
      "iteration 5 -2.265625\n",
      "at iteration 10 approximate root is mid and error is 0.015625\n",
      "iteration 6 -2.2734375\n",
      "at iteration 10 approximate root is mid and error is 0.0078125\n",
      "iteration 7 -2.27734375\n",
      "at iteration 10 approximate root is mid and error is 0.00390625\n",
      "iteration 8 -2.279296875\n",
      "at iteration 10 approximate root is mid and error is 0.001953125\n",
      "iteration 9 -2.2783203125\n",
      "cost of computtation: 0:00:00\n"
     ]
    }
   ],
   "source": [
    "def f(x):\n",
    "    return x**3-3*x+5\n",
    "for u in range(-5,0):\n",
    "    for v in range(-5,5):\n",
    "        if abs(u-v)==1 and f(u)*f(v)<0:\n",
    "            a=u\n",
    "            b=v\n",
    "print(a,b)\n",
    "# a=int(input('Enter start point of interval:\\n'))\n",
    "# b=int(input('Enter end point of interval:\\n'))\n",
    "# z=int(input('Enter the required significant points:\\n'))\n",
    "\n",
    "a = -3  # Start point of the interval\n",
    "b = -2  # End point of the interval\n",
    "z = 3  \n",
    "e=10**(-z)\n",
    "i=math.ceil(math.log(abs(b-a)/e,2))\n",
    "if f(a)*f(b)>0:\n",
    "    print(f\"Bisection fails in the interval [{a},{b}]\")\n",
    "print(\"number of iterations:\",i)\n",
    "t_i= datetime.now()\n",
    "n=0\n",
    "while n<i:\n",
    "    mid=(a+b)/2\n",
    "    err=abs(b-a)\n",
    "    print(f'at iteration {i} approximate root is mid and error is {err}')\n",
    "\n",
    "    if f(a)*f(mid)<0:\n",
    "        b=mid\n",
    "    elif f(mid)*f(b)<0:\n",
    "        a=mid\n",
    "    print(f\"iteration {n}\",mid)\n",
    "    n+=1\n",
    "t_f= datetime.now()\n",
    "print(\"cost of computtation:\",t_f-t_i)"
   ]
  },
  {
   "cell_type": "markdown",
   "metadata": {},
   "source": [
    "## Newton Raphson"
   ]
  },
  {
   "cell_type": "markdown",
   "metadata": {},
   "source": [
    "'''the difference in the use of library change the number of iteration required for the results.\n",
    "Lambdify library considers the integer value of the derivative which reduces the number \n",
    "of iterations\n",
    " whereas subs command takes float value to find accurate results, increasing \n",
    " the number of iterations.'''"
   ]
  },
  {
   "cell_type": "code",
   "execution_count": 3,
   "metadata": {},
   "outputs": [
    {
     "name": "stdout",
     "output_type": "stream",
     "text": [
      "iteration 1 -2.3333333333333335\n",
      "iteration 2 -2.2805555555555554\n",
      "iteration 3 -2.2790200679500896\n",
      "iteration 4 -2.2790187861674864\n",
      "The root of x**3 - 3*x + 5 is : -2.2790187861674864\n",
      "cost of computation 0:00:00.169319\n"
     ]
    }
   ],
   "source": [
    "# x0=int(input('enter initial value:\\n'))\n",
    "# z=int(input('enter tolerance:\\n'))\n",
    "x0 = -2  # Initial guess\n",
    "z = 4 \n",
    "e=10**(-z)\n",
    "x=symbols('x')\n",
    "def f(x):\n",
    "    return x**3-3*x+5\n",
    "itime=datetime.now()\n",
    "dfdx=diff(f(x),x)\n",
    "dfdx_val=smp.lambdify(x,dfdx)\n",
    "if dfdx_val(x0)!=0:\n",
    "    h=((f(x0))/dfdx_val(x0))\n",
    "    i=0\n",
    "    while abs(h)>=e:\n",
    "        h=((f(x0))/dfdx_val(x0))\n",
    "        x1=x0-h\n",
    "        print(f'iteration {i+1}',x1)\n",
    "        x0=x1\n",
    "        i+=1\n",
    "    ftime=datetime.now()\n",
    "    print(f'The root of {f(x)} is :',x1)\n",
    "    print(\"cost of computation\",ftime-itime)"
   ]
  },
  {
   "cell_type": "markdown",
   "metadata": {},
   "source": [
    "## Newton Raphson with multiplicity"
   ]
  },
  {
   "cell_type": "code",
   "execution_count": 6,
   "metadata": {},
   "outputs": [
    {
     "name": "stdout",
     "output_type": "stream",
     "text": [
      "The root of x**2 - 1 is : 0.33333333333333304\n"
     ]
    }
   ],
   "source": [
    "x0 = 3   # Initial guess  \n",
    "z = 4    # Tolerance (4 significant digits)  \n",
    "m = 2\n",
    "\n",
    "e=10**(-z)\n",
    "x=symbols('x')\n",
    "def f(x):\n",
    "    return x**2-1\n",
    "dfdx=diff(f(x),x)\n",
    "dfdx_val=smp.lambdify(x,dfdx)\n",
    "if dfdx_val(x0)!=0:\n",
    "    h=((f(x0))/dfdx_val(x0))\n",
    "    i=0\n",
    "    while abs(h)<=e:\n",
    "        if dfdx_val(x0)!=0:\n",
    "            h=((f(x0))/(dfdx_val(x0)))\n",
    "            x1=x0-m*h\n",
    "            print(f'iteration {i+1}',x1)\n",
    "            x0=x1\n",
    "        i+=1\n",
    "    print(f'The root of {f(x)} is :',x1)"
   ]
  },
  {
   "cell_type": "markdown",
   "metadata": {},
   "source": [
    "## Newton Raphson without multiplicity\n"
   ]
  },
  {
   "cell_type": "code",
   "execution_count": 8,
   "metadata": {},
   "outputs": [
    {
     "name": "stdout",
     "output_type": "stream",
     "text": [
      "iteration 1 0.6000000000000001\n",
      "iteration 2 0.8823529411764706\n",
      "iteration 3 0.9922178988326849\n",
      "iteration 4 0.9999694828875292\n",
      "iteration 5 0.9999999995343387\n",
      "The root of x**2 - 1 is : 0.9999999995343387\n"
     ]
    }
   ],
   "source": [
    "# x0=int(input('enter initial value:\\n'))\n",
    "# z=int(input('enter tolerance:\\n'))\n",
    "\n",
    "x0 = 3   # Initial guess  \n",
    "z = 4 \n",
    "e=10**(-z)\n",
    "x=symbols('x')\n",
    "def f(x):\n",
    "    return x**2-1\n",
    "dfdx=diff(f(x),x)\n",
    "dfdx_val=smp.lambdify(x,dfdx)\n",
    "if dfdx_val(x0)!=0:\n",
    "    h=((f(x0))/dfdx_val(x0))\n",
    "    i=0\n",
    "    while abs(h)>=e:\n",
    "        if dfdx_val(x0)!=0:\n",
    "            g=f(x)/dfdx\n",
    "            dgdx=diff(g,x)\n",
    "            dgdx_val=smp.lambdify(x,dgdx)\n",
    "            h=((f(x0))/(dfdx_val(x0)*dgdx_val(x0)))\n",
    "            x1=x0-h\n",
    "            print(f'iteration {i+1}',x1)\n",
    "            x0=x1\n",
    "        i+=1\n",
    "    print(f'The root of {f(x)} is :',x1)"
   ]
  },
  {
   "cell_type": "markdown",
   "metadata": {},
   "source": [
    "## Regula-Falsi"
   ]
  },
  {
   "cell_type": "code",
   "execution_count": 9,
   "metadata": {},
   "outputs": [
    {
     "name": "stdout",
     "output_type": "stream",
     "text": [
      "for approximate root p the error is 0.1875\n",
      "iteration 4 -2.1875\n",
      "for approximate root p the error is 0.06311922990317509\n",
      "iteration 4 -2.250619229903175\n",
      "for approximate root p the error is 0.019746460771659535\n",
      "iteration 4 -2.2703656906748346\n",
      "for approximate root p the error is 0.006031510908789617\n",
      "iteration 4 -2.2763972015836242\n",
      "for approximate root p the error is 0.0018287106533447783\n",
      "iteration 4 -2.278225912236969\n",
      "for approximate root p the error is 0.0005532023634646777\n",
      "iteration 4 -2.2787791146004337\n",
      "for approximate root p the error is 0.0001672346480194875\n",
      "iteration 4 -2.278946349248453\n",
      "for approximate root p the error is 5.0545062238338545e-05\n",
      "iteration 4 -2.2789968943106915\n",
      "cost of computation 0:00:00\n"
     ]
    }
   ],
   "source": [
    "# a=int(input('enter starting interval:\\n'))\n",
    "# b=int(input('enter ending interval:\\n'))\n",
    "# z=int(input('enter required significant digits:\\n'))\n",
    "a = -3   # Starting interval  \n",
    "b = -2   # Ending interval  \n",
    "z = 4\n",
    "e=10**(-z)\n",
    "def f(x):\n",
    "    return x**3-3*x+5\n",
    "itime=datetime.now()\n",
    "i=1\n",
    "while i>e:\n",
    "\n",
    "    p= (a*f(b)-b*f(a))/(f(b)-f(a))\n",
    "    i=abs(p-b)\n",
    "    print(f'for approximate root p the error is {i}')\n",
    "    if f(a)*f(p)<0:\n",
    "        b=p\n",
    "    elif f(p)*f(b)<0:\n",
    "        a=p\n",
    "    ftime=datetime.now()\n",
    "    print(f\"iteration {z}\",p)\n",
    "print(\"cost of computation\",ftime-itime)"
   ]
  },
  {
   "cell_type": "markdown",
   "metadata": {},
   "source": [
    "## secant method"
   ]
  },
  {
   "cell_type": "code",
   "execution_count": 10,
   "metadata": {},
   "outputs": [
    {
     "name": "stdout",
     "output_type": "stream",
     "text": [
      "for approximate root p the error is 0.1875\n",
      "-2.1875\n",
      "for approximate root p the error is 0.1077710495963089\n",
      "-2.295271049596309\n",
      "for approximate root p the error is 0.01708522065639073\n",
      "-2.278185828939918\n",
      "for approximate root p the error is 0.0008256456745545648\n",
      "-2.2790114746144727\n",
      "for approximate root p the error is 7.314862702667568e-06\n",
      "-2.2790187894771754\n",
      "for approximate root p the error is 3.3105949093226172e-09\n",
      "-2.2790187861665805\n",
      "for approximate root p the error is 1.2878587085651816e-14\n",
      "-2.2790187861665934\n",
      "for approximate root p the error is 0.0\n",
      "-2.2790187861665934\n",
      "cost of computation 0:00:00.000541\n"
     ]
    }
   ],
   "source": [
    "# a=int(input('enter starting interval:\\n'))\n",
    "# b=int(input('enter ending interval:\\n'))\n",
    "# z=int(input('enter required significant digits:\\n'))\n",
    "\n",
    "a = -3   # Starting interval  \n",
    "b = -2   # Ending interval  \n",
    "z = 4\n",
    "e=10**(-z)\n",
    "def f(x):\n",
    "    return x**3-3*x+5\n",
    "itime=datetime.now()\n",
    "z=1\n",
    "while z>e and (f(b)-f(a))!=0:\n",
    "    p= b - (f(b)*((b-a)/(f(b)-f(a))))\n",
    "    err = abs(p-b)\n",
    "    print(f'for approximate root p the error is {err}')\n",
    "    print(p)\n",
    "    a=b\n",
    "    b=p\n",
    "ftime=datetime.now()\n",
    "print(\"cost of computation\",ftime-itime)"
   ]
  },
  {
   "cell_type": "markdown",
   "metadata": {},
   "source": [
    "## Newton Non- linear"
   ]
  },
  {
   "cell_type": "code",
   "execution_count": 13,
   "metadata": {},
   "outputs": [
    {
     "name": "stdout",
     "output_type": "stream",
     "text": [
      "Iteration 1: x = 0.6666666666666667, y = 0.8333333333333334\n",
      "Iteration 2: x = 0.5086919161874546, y = 0.8410998744133783\n",
      "Iteration 3: x = 0.4993299956437513, y = 0.8662691717880057\n",
      "Iteration 4: x = 0.4999999113699129, y = 0.8660249031568892\n",
      "Iteration 5: x = 0.4999999999999554, y = 0.8660254037846933\n",
      "Iteration 6: x = 0.49999999999999994, y = 0.8660254037844386\n",
      "Iteration 7: x = 0.5, y = 0.8660254037844386\n",
      "Iteration 8: x = 0.5, y = 0.8660254037844387\n",
      "Iteration 9: x = 0.5, y = 0.8660254037844386\n",
      "Iteration 10: x = 0.5, y = 0.8660254037844387\n",
      "Matrix A:\n",
      " [[ 0.5125  0.5125  0.5125  0.5125  0.5125]\n",
      " [ 0.5125  0.5125  0.5125  0.5125  0.5125]\n",
      " [ 0.5125  0.5125  0.5125  0.5125  0.5125]\n",
      " [ 0.5125  0.5125  0.5125  0.5125  0.5125]\n",
      " [ 0.5125  0.5125  0.5125  0.5125 -0.025 ]]\n"
     ]
    }
   ],
   "source": [
    "import numpy as np\n",
    "import sympy as smp\n",
    "from sympy import symbols, diff\n",
    "\n",
    "x, y = symbols('x y')\n",
    "\n",
    "# Define equations\n",
    "u = (x**3) - (3*x*(y**2)) + 1\n",
    "v = -y**3 + (3*x**2)*y\n",
    "\n",
    "# Compute derivatives for the Jacobian\n",
    "dudx = smp.lambdify([x, y], diff(u, x))\n",
    "dudy = smp.lambdify([x, y], diff(u, y))\n",
    "dvdx = smp.lambdify([x, y], diff(v, x))\n",
    "dvdy = smp.lambdify([x, y], diff(v, y))\n",
    "u_val = smp.lambdify([x, y], u)\n",
    "v_val = smp.lambdify([x, y], v)\n",
    "\n",
    "\n",
    "x0 = 1\n",
    "y0 = 1\n",
    "n = 10  \n",
    "\n",
    "for i in range(n):\n",
    "    J = np.array([[dudx(x0, y0), dudy(x0, y0)], [dvdx(x0, y0), dvdy(x0, y0)]])\n",
    "    P = np.array([u_val(x0, y0), v_val(x0, y0)])\n",
    "\n",
    "\n",
    "    inv_J = np.linalg.inv(J)\n",
    "    ans = np.dot(inv_J, -P)\n",
    "    \n",
    "    x0 += ans[0]\n",
    "    y0 += ans[1]\n",
    "    \n",
    "    print(f\"Iteration {i+1}: x = {x0}, y = {y0}\")\n",
    "\n",
    "n = 5\n",
    "k = 0.005125\n",
    "h = 0.1\n",
    "s = float(k / h**2)\n",
    "\n",
    "A = np.zeros((n, n), dtype=float)\n",
    "\n",
    "for i in range(n):\n",
    "    for j in range(n):\n",
    "        if i == j:\n",
    "            A[i, j] = 1 - 2 * s  \n",
    "        if i + 1 < n:\n",
    "            A[i + 1, j] = s  \n",
    "        if i - 1 >= 0:\n",
    "            A[i - 1, j] = s \n",
    "\n",
    "print(\"Matrix A:\\n\", A)\n"
   ]
  },
  {
   "cell_type": "code",
   "execution_count": null,
   "metadata": {},
   "outputs": [],
   "source": []
  }
 ],
 "metadata": {
  "kernelspec": {
   "display_name": "base",
   "language": "python",
   "name": "python3"
  },
  "language_info": {
   "codemirror_mode": {
    "name": "ipython",
    "version": 3
   },
   "file_extension": ".py",
   "mimetype": "text/x-python",
   "name": "python",
   "nbconvert_exporter": "python",
   "pygments_lexer": "ipython3",
   "version": "3.12.4"
  }
 },
 "nbformat": 4,
 "nbformat_minor": 2
}
