{
 "cells": [
  {
   "cell_type": "code",
   "execution_count": null,
   "metadata": {},
   "outputs": [],
   "source": [
    "import numpy as np\n",
    "\n",
    "a=np.array([[3,-1,-2,-1],[1,-2,0,-1],[2,2,1,2],[1,0,0,-2]],dtype=np.float64)\n",
    "b=np.array([[3],[2],[7],[0]],dtype=np.float64)\n",
    "# a=np.array([[1,2,3],[4,5,6],[7,8,9]],dtype=np.float64)\n",
    "mat=np.concatenate((a,b),axis=1,dtype=np.float64)\n",
    "print(mat)\n",
    "# b_new=np.empty(3)\n",
    "ech=np.empty([len(mat),len(mat[0])])\n",
    "order=min(len(mat),len(mat[0]))\n",
    "# print(order)\n",
    "# order = len(mat)\n",
    "a=0\n",
    "while a<len(mat):\n",
    "    # for i in range(3):\n",
    "    #     if mat[i][i]==0:\n",
    "    #         print('enter another matrix')\n",
    "    # print(mat)\n",
    "    for i in range(a,len(ech)):\n",
    "        fact=mat[i][a]\n",
    "        print(mat)\n",
    "        for j in range(a,len(ech[1])):\n",
    "            # ech[i][j]=round(mat[i][j]/fact,5)\n",
    "            ech[i][j]=mat[i][j]/fact\n",
    "    print('divide\\n',ech,'\\n')\n",
    "    # for j in range(a,order):\n",
    "        # b_new[i]=b[i]/mat[i][a]\n",
    "    # print(b_new)\n",
    "                            \n",
    "    for i in range(a+1,len(ech)):\n",
    "        for j in range(a,len(ech[1])):\n",
    "            ech[i][j]=ech[i][j]-ech[a][j]\n",
    "    print('final\\n',ech,'\\n')\n",
    "    mat=ech\n",
    "    a+=1\n",
    "print(ech)"
   ]
  }
 ],
 "metadata": {
  "kernelspec": {
   "display_name": "Python 3",
   "language": "python",
   "name": "python3"
  },
  "language_info": {
   "name": "python",
   "version": "3.12.4"
  }
 },
 "nbformat": 4,
 "nbformat_minor": 2
}
