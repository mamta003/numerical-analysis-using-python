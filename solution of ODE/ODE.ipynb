{
 "cells": [
  {
   "cell_type": "markdown",
   "metadata": {},
   "source": [
    "## Euler's method"
   ]
  },
  {
   "cell_type": "code",
   "execution_count": 1,
   "metadata": {},
   "outputs": [],
   "source": [
    "import numpy as np\n",
    "import sympy as smp\n",
    "from sympy import symbols,diff\n",
    "from datetime import datetime as dt"
   ]
  },
  {
   "cell_type": "code",
   "execution_count": 2,
   "metadata": {},
   "outputs": [
    {
     "name": "stdout",
     "output_type": "stream",
     "text": [
      "x= [0.   0.05 0.1  0.15 0.2 ]\n",
      "y= [1.         1.05       1.10525    1.16682888 1.23602836]\n"
     ]
    }
   ],
   "source": [
    "x=symbols('x')\n",
    "y=symbols('y')\n",
    "\n",
    "dydx=x**2+y**2\n",
    "dydx_val=smp.lambdify([x,y],dydx)\n",
    "\n",
    "# h=float(input('enter step size:\\n'))\n",
    "# start_range=float(input('enter the starting point of range:\\n'))\n",
    "# end_range=float(input('enter the end point of range:\\n'))\n",
    "# val=float(input(\"enter the value of x to evaluate \\n\"))\n",
    "\n",
    "h=0.05\n",
    "end_range=0.2\n",
    "start_range=0\n",
    "val=0.2\n",
    "n=int((float(end_range)-float(start_range))/h)\n",
    "y=np.empty(n+1)\n",
    "x=np.empty(n+1)\n",
    "x[0]=0\n",
    "y[0]=1\n",
    "i=0\n",
    "while i<n:\n",
    "    y[i+1]=y[i]+h*dydx_val(x[i],y[i])\n",
    "    x[i+1]=x[i]+h\n",
    "    i+=1\n",
    "print('x=',x)\n",
    "print('y=',y)"
   ]
  },
  {
   "cell_type": "markdown",
   "metadata": {},
   "source": [
    "## RK method 2nd order"
   ]
  },
  {
   "cell_type": "code",
   "execution_count": null,
   "metadata": {},
   "outputs": [
    {
     "name": "stdout",
     "output_type": "stream",
     "text": [
      "[[0.         1.         0.1        0.12       1.11      ]\n",
      " [0.1        1.11       0.12221    0.14783415 1.24502207]\n",
      " [0.2        1.24502207 0.151008   0.18589    1.41347107]\n",
      " [0.3        1.41347107 0.19079005 0.24136537 1.62954878]\n",
      " [0.4        1.62954878 0.24954292 0.32809856 1.91836952]]\n"
     ]
    }
   ],
   "source": [
    "x=symbols('x')\n",
    "y=symbols('y')\n",
    "dydx=y**2-x**2\n",
    "fx=smp.lambdify([x,y],dydx)\n",
    "k=2\n",
    "\n",
    "# x0=float(input('enter the initial value of x:\\n'))\n",
    "# y0=float(input('enter the initial value of y:\\n'))\n",
    "# h=float(input('enter the step size:\\n'))\n",
    "# pt=float(input(\"enter the point of iteration:\\n\"))\n",
    "\n",
    "x0 = 0.0       # Initial value of x\n",
    "y0 = 1.0       # Initial value of y\n",
    "h = 0.1        \n",
    "pt = 0.5\n",
    "\n",
    "n=int(abs((pt-x0)/h))\n",
    "iter=np.zeros([n,2+k+1])\n",
    "for i in range(n):\n",
    "    iter[i][0]=x0\n",
    "    iter[i][1]=y0\n",
    "    iter[i][2]=h*fx(iter[i][0],iter[i][1])\n",
    "    iter[i][3]=h*fx(iter[i][0]+h,iter[i][1]+iter[i][2])\n",
    "    iter[i][4]=y0+(1/2)*(iter[i][2]+iter[i][3])\n",
    "    x0+=h\n",
    "    y0=iter[i][4]\n",
    "print(iter)"
   ]
  },
  {
   "cell_type": "markdown",
   "metadata": {},
   "source": [
    "## simplified rk2"
   ]
  },
  {
   "cell_type": "code",
   "execution_count": 10,
   "metadata": {},
   "outputs": [
    {
     "name": "stdout",
     "output_type": "stream",
     "text": [
      "y(0.1) is 1.11\n",
      "y(0.2) is 1.245022074205\n",
      "y(0.30000000000000004) is 1.4134710703871143\n",
      "y(0.4) is 1.6295487803151918\n",
      "y(0.5) is 1.9183695231115736\n",
      "cost 0:00:00\n"
     ]
    }
   ],
   "source": [
    "x=symbols('x')\n",
    "y=symbols('y')\n",
    "dydx=y**2-x**2\n",
    "fx=smp.lambdify([x,y],dydx)\n",
    "\n",
    "# x0=float(input('enter the initial value of x:\\n'))\n",
    "# y0=float(input('enter the initial value of y:\\n'))\n",
    "# h=float(input('enter the step size:\\n'))\n",
    "# pt=float(input(\"enter the point of iteration:\\n\"))\n",
    "\n",
    "x0 = 0.0       # Initial value of x\n",
    "y0 = 1.0       # Initial value of y\n",
    "h = 0.1        \n",
    "pt = 0.5\n",
    "\n",
    "n=int(abs((pt-x0)/h))\n",
    "t_i=dt.now()\n",
    "for i in range(n):\n",
    "    k1=h*fx(x0,y0)\n",
    "    k2=h*fx(x0+h,y0+k1)\n",
    "    y1=y0+(1/2)*(k1+k2)\n",
    "    print(f\"y({x0+h}) is {y1}\")\n",
    "    x0=x0+h\n",
    "    y0=y1   \n",
    "t_f=dt.now()\n",
    "print(\"cost\",t_f-t_i)"
   ]
  },
  {
   "cell_type": "markdown",
   "metadata": {},
   "source": [
    "## RK method 4th order"
   ]
  },
  {
   "cell_type": "code",
   "execution_count": 12,
   "metadata": {},
   "outputs": [
    {
     "name": "stdout",
     "output_type": "stream",
     "text": [
      "cost 0:00:00.005632\n",
      "[[0.         1.         0.1        0.1105     0.11160526 0.12456662\n",
      "  1.11146286]\n",
      " [0.1        1.11146286 0.12453497 0.14001429 0.14183714 0.16107609\n",
      "  1.25301517]\n",
      " [0.2        1.25301517 0.1610047  0.1840769  0.18716693 0.21641245\n",
      "  1.43966597]\n",
      " [0.3        1.43966597 0.21626381 0.25181783 0.25735247 0.30398716\n",
      "  1.6960979 ]\n",
      " [0.4        1.6960979  0.30367481 0.36173649 0.37255019 0.45293049\n",
      "  2.06696102]]\n"
     ]
    }
   ],
   "source": [
    "x=symbols('x')\n",
    "y=symbols('y')\n",
    "dydx=y**2+x**2\n",
    "fx=smp.lambdify([x,y],dydx)\n",
    "k=4\n",
    "\n",
    "# x0=float(input('enter the initial value of x:\\n'))\n",
    "# y0=float(input('enter the initial value of y:\\n'))\n",
    "# h=float(input('enter the step size:\\n'))\n",
    "# pt=float(input(\"enter the point of iteration:\\n\"))\n",
    "\n",
    "x0 = 0.0   # Initial value of x\n",
    "y0 = 1.0   # Initial value of y\n",
    "h = 0.1    # Step size\n",
    "pt = 0.5 \n",
    "\n",
    "n=int(abs((pt-x0)/h))\n",
    "iter=np.zeros([n,2+k+1])\n",
    "t_i=dt.now()\n",
    "for i in range(n):\n",
    "    iter[i][0]=x0\n",
    "    iter[i][1]=y0\n",
    "    iter[i][2]=h*fx(iter[i][0],iter[i][1])\n",
    "    iter[i][3]=h*fx(iter[i][0]+h/2,iter[i][1]+iter[i][2]/2)\n",
    "    iter[i][4]=h*fx(iter[i][0]+h/2,iter[i][1]+iter[i][3]/2)\n",
    "    iter[i][5]=h*fx(iter[i][0]+h,iter[i][1]+iter[i][4])\n",
    "    iter[i][6]=y0+(1/6)*(iter[i][2]+2*iter[i][3]+2*iter[i][4]+iter[i][5])\n",
    "    x0=x0+h\n",
    "    y0=iter[i][6]\n",
    "t_f=dt.now()\n",
    "print(\"cost\",t_f-t_i)\n",
    "print(iter)"
   ]
  },
  {
   "cell_type": "markdown",
   "metadata": {},
   "source": [
    "## simplified rk4"
   ]
  },
  {
   "cell_type": "code",
   "execution_count": 13,
   "metadata": {},
   "outputs": [
    {
     "name": "stdout",
     "output_type": "stream",
     "text": [
      "y(0.1) is 1.1114628561787105\n",
      "y(0.2) is 1.2530151746035345\n",
      "y(0.30000000000000004) is 1.439665974547582\n",
      "y(0.4) is 1.696097903722817\n",
      "y(0.5) is 2.066961015450312\n",
      "cost 0:00:00\n"
     ]
    }
   ],
   "source": [
    "x=symbols('x')\n",
    "y=symbols('y')\n",
    "dydx=y**2+x**2\n",
    "fx=smp.lambdify([x,y],dydx)\n",
    "# x0=float(input('enter the initial value of x:\\n'))\n",
    "# y0=float(input('enter the initial value of y:\\n'))\n",
    "# h=float(input('enter the step size:\\n'))\n",
    "# pt=float(input(\"enter the point of iteration:\\n\"))\n",
    "\n",
    "x0 = 0.0   # Initial x value\n",
    "y0 = 1.0   # Initial y value\n",
    "h = 0.1    # Step size\n",
    "pt = 0.5\n",
    "\n",
    "n=int(abs((pt-x0)/h))\n",
    "t_i=dt.now()\n",
    "for i in range(n):\n",
    "    k1=h*fx(x0,y0)\n",
    "    k2=h*fx(x0+h/2,y0+k1/2)\n",
    "    k3=h*fx(x0+h/2,y0+k2/2)\n",
    "    k4=h*fx(x0+h,y0+k3)\n",
    "    y1=y0+(1/6)*(k1+2*k2+2*k3+k4)\n",
    "    print(f\"y({x0+h}) is {y1}\")\n",
    "    x0=x0+h\n",
    "    y0=y1   \n",
    "t_f=dt.now()\n",
    "print(\"cost\",t_f-t_i)"
   ]
  },
  {
   "cell_type": "markdown",
   "metadata": {},
   "source": [
    "## Adams Bashforth"
   ]
  },
  {
   "cell_type": "code",
   "execution_count": 15,
   "metadata": {},
   "outputs": [
    {
     "name": "stdout",
     "output_type": "stream",
     "text": [
      "yp=1.1973737160069717\n",
      "yc=1.1973754358841606\n",
      "yp=1.2449173425537745\n",
      "yc=1.2449188844523427\n"
     ]
    }
   ],
   "source": [
    "def rk4(x0,y0,h,pt):\n",
    "    n=int(abs((pt-x0)/h))\n",
    "    iter=np.zeros([n,2])\n",
    "    for i in range(n):\n",
    "        iter[i][0]=x0\n",
    "        iter[i][1]=y0\n",
    "        k1=h*fx(x0,y0)\n",
    "        k2=h*fx(x0+h/2,y0+k1/2)\n",
    "        k3=h*fx(x0+h/2,y0+k2/2)\n",
    "        k4=h*fx(x0+h,y0+k3)\n",
    "        y1=y0+(1/6)*(k1+2*k2+2*k3+k4)\n",
    "        # iter[i][2]=y1\n",
    "        x0=x0+h\n",
    "        y0=y1 \n",
    "    return iter\n",
    "\n",
    "x=symbols('x')\n",
    "y=symbols('y')\n",
    "dydx=2*y-y**2\n",
    "fx=smp.lambdify([x,y],dydx)\n",
    "k=4\n",
    "# x0=float(input('enter the initial value of x:\\n'))\n",
    "# y0=float(input('enter the initial value of y:\\n'))\n",
    "# h=float(input('enter the step size:\\n'))\n",
    "# pt=float(input(\"enter the point of iteration:\\n\"))\n",
    "x0=0\n",
    "y0=1\n",
    "h=0.05\n",
    "pt=0.2\n",
    "gx=rk4(x0,y0,h,pt)\n",
    "x1=gx[1][0]\n",
    "x2=gx[2][0]\n",
    "x3=gx[3][0]\n",
    "y1=gx[1][1]\n",
    "y2=gx[2][1]\n",
    "y3=gx[3][1]\n",
    "# z=int(input(\"enter number of point of iteration:\\n\"))\n",
    "z=2\n",
    "for i in range(z):\n",
    "    x4=x3+h\n",
    "    yp4= y3+ (h/24)*(-9*fx(x0,y0)+37*fx(x1,y1)-59*fx(x2,y2)+55*fx(x3,y3))\n",
    "    yc4= y3+ (h/24)*(fx(x1,y1)-5*fx(x2,y2)+19*fx(x3,y3)+9*fx(x4,yp4))\n",
    "    print(f\"yp={yp4}\")\n",
    "    print(f\"yc={yc4}\")\n",
    "    x0=x1\n",
    "    x1=x2\n",
    "    x2=x3\n",
    "    x3=x4\n",
    "    y0=y1\n",
    "    y1=y2\n",
    "    y2=y3\n",
    "    y3=yc4"
   ]
  },
  {
   "cell_type": "markdown",
   "metadata": {},
   "source": [
    "## Milne method"
   ]
  },
  {
   "cell_type": "code",
   "execution_count": 17,
   "metadata": {},
   "outputs": [
    {
     "name": "stdout",
     "output_type": "stream",
     "text": [
      "[[0.         1.        ]\n",
      " [0.05       1.04995837]\n",
      " [0.1        1.09966799]\n",
      " [0.15       1.14888503]]\n",
      "yp=1.1973739019016172\n",
      "yc=1.1973753698662124\n",
      "yp=1.2449173897751795\n",
      "yc=1.2449187017523928\n"
     ]
    }
   ],
   "source": [
    "x=symbols('x')\n",
    "y=symbols('y')\n",
    "dydx=2*y-(y**2)\n",
    "fx=smp.lambdify([x,y],dydx)\n",
    "k=4\n",
    "# x0=float(input('enter the initial value of x:\\n'))\n",
    "# y0=float(input('enter the initial value of y:\\n'))\n",
    "# h=float(input('enter the step size:\\n'))\n",
    "# pt=float(input(\"enter the point of iteration:\\n\"))\n",
    "x0=0\n",
    "y0=1\n",
    "h=0.05\n",
    "pt=0.2\n",
    "def rk4(x0,y0,h,pt):\n",
    "    n=int(abs((pt-x0)/h))\n",
    "    iter=np.zeros([n,2])\n",
    "    for i in range(n):\n",
    "        iter[i][0]=x0\n",
    "        iter[i][1]=y0\n",
    "        k1=h*fx(x0,y0)\n",
    "        k2=h*fx(x0+h/2,y0+k1/2)\n",
    "        k3=h*fx(x0+h/2,y0+k2/2)\n",
    "        k4=h*fx(x0+h,y0+k3)\n",
    "        y1=y0+(1/6)*(k1+2*k2+2*k3+k4)\n",
    "        x0=x0+h\n",
    "        y0=y1 \n",
    "    return iter\n",
    "gx=rk4(x0,y0,h,pt)\n",
    "print(rk4(x0,y0,h,pt))\n",
    "x1=gx[1][0]\n",
    "x2=gx[2][0]\n",
    "x3=gx[3][0]\n",
    "y1=gx[1][1]\n",
    "y2=gx[2][1]\n",
    "y3=gx[3][1]\n",
    "# z=int(input(\"enter number of point of iteration:\\n\"))\n",
    "z=2\n",
    "for i in range(z):\n",
    "    x4=x3+h\n",
    "    yp4= y0+ (4*h/3)*(2*fx(x1,y1)-fx(x2,y2)+2*fx(x3,y3))\n",
    "    yc4= y2+ (h/3)*(fx(x2,y2)+4*fx(x3,y3)+fx(x4,yp4))\n",
    "    print(f\"yp={yp4}\")\n",
    "    print(f\"yc={yc4}\")\n",
    "    x0=x1\n",
    "    x1=x2\n",
    "    x2=x3\n",
    "    x3=x4\n",
    "    y0=y1\n",
    "    y1=y2\n",
    "    y2=y3\n",
    "    y3=yc4"
   ]
  },
  {
   "cell_type": "code",
   "execution_count": null,
   "metadata": {},
   "outputs": [],
   "source": []
  }
 ],
 "metadata": {
  "kernelspec": {
   "display_name": "Python 3",
   "language": "python",
   "name": "python3"
  },
  "language_info": {
   "codemirror_mode": {
    "name": "ipython",
    "version": 3
   },
   "file_extension": ".py",
   "mimetype": "text/x-python",
   "name": "python",
   "nbconvert_exporter": "python",
   "pygments_lexer": "ipython3",
   "version": "3.12.4"
  }
 },
 "nbformat": 4,
 "nbformat_minor": 2
}
